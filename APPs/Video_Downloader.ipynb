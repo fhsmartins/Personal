{
  "nbformat": 4,
  "nbformat_minor": 0,
  "metadata": {
    "colab": {
      "provenance": [],
      "authorship_tag": "ABX9TyNk5VhKBNyoi8o0u561HcCP",
      "include_colab_link": true
    },
    "kernelspec": {
      "name": "python3",
      "display_name": "Python 3"
    },
    "language_info": {
      "name": "python"
    }
  },
  "cells": [
    {
      "cell_type": "markdown",
      "metadata": {
        "id": "view-in-github",
        "colab_type": "text"
      },
      "source": [
        "<a href=\"https://colab.research.google.com/github/fhsmartins/Personal/blob/main/APPs/Video_Downloader.ipynb\" target=\"_parent\"><img src=\"https://colab.research.google.com/assets/colab-badge.svg\" alt=\"Open In Colab\"/></a>"
      ]
    },
    {
      "cell_type": "code",
      "execution_count": 20,
      "metadata": {
        "colab": {
          "base_uri": "https://localhost:8080/"
        },
        "id": "iAkTAuAs9rCW",
        "outputId": "96966b4f-9c46-4db5-f0c0-7c7b78acbc97"
      },
      "outputs": [
        {
          "output_type": "stream",
          "name": "stdout",
          "text": [
            "Requirement already satisfied: yt-dlp in /usr/local/lib/python3.10/dist-packages (2024.10.22)\n",
            "Requirement already satisfied: youtube-transcript-api in /usr/local/lib/python3.10/dist-packages (0.6.2)\n",
            "Requirement already satisfied: instaloader in /usr/local/lib/python3.10/dist-packages (4.13.2)\n",
            "Requirement already satisfied: requests in /usr/local/lib/python3.10/dist-packages (2.32.3)\n",
            "Requirement already satisfied: transformers in /usr/local/lib/python3.10/dist-packages (4.46.1)\n",
            "Requirement already satisfied: brotli in /usr/local/lib/python3.10/dist-packages (from yt-dlp) (1.1.0)\n",
            "Requirement already satisfied: certifi in /usr/local/lib/python3.10/dist-packages (from yt-dlp) (2024.8.30)\n",
            "Requirement already satisfied: mutagen in /usr/local/lib/python3.10/dist-packages (from yt-dlp) (1.47.0)\n",
            "Requirement already satisfied: pycryptodomex in /usr/local/lib/python3.10/dist-packages (from yt-dlp) (3.21.0)\n",
            "Requirement already satisfied: urllib3<3,>=1.26.17 in /usr/local/lib/python3.10/dist-packages (from yt-dlp) (2.2.3)\n",
            "Requirement already satisfied: websockets>=13.0 in /usr/local/lib/python3.10/dist-packages (from yt-dlp) (13.1)\n",
            "Requirement already satisfied: charset-normalizer<4,>=2 in /usr/local/lib/python3.10/dist-packages (from requests) (3.4.0)\n",
            "Requirement already satisfied: idna<4,>=2.5 in /usr/local/lib/python3.10/dist-packages (from requests) (3.10)\n",
            "Requirement already satisfied: filelock in /usr/local/lib/python3.10/dist-packages (from transformers) (3.16.1)\n",
            "Requirement already satisfied: huggingface-hub<1.0,>=0.23.2 in /usr/local/lib/python3.10/dist-packages (from transformers) (0.24.7)\n",
            "Requirement already satisfied: numpy>=1.17 in /usr/local/lib/python3.10/dist-packages (from transformers) (1.26.4)\n",
            "Requirement already satisfied: packaging>=20.0 in /usr/local/lib/python3.10/dist-packages (from transformers) (24.1)\n",
            "Requirement already satisfied: pyyaml>=5.1 in /usr/local/lib/python3.10/dist-packages (from transformers) (6.0.2)\n",
            "Requirement already satisfied: regex!=2019.12.17 in /usr/local/lib/python3.10/dist-packages (from transformers) (2024.9.11)\n",
            "Requirement already satisfied: safetensors>=0.4.1 in /usr/local/lib/python3.10/dist-packages (from transformers) (0.4.5)\n",
            "Requirement already satisfied: tokenizers<0.21,>=0.20 in /usr/local/lib/python3.10/dist-packages (from transformers) (0.20.1)\n",
            "Requirement already satisfied: tqdm>=4.27 in /usr/local/lib/python3.10/dist-packages (from transformers) (4.66.5)\n",
            "Requirement already satisfied: fsspec>=2023.5.0 in /usr/local/lib/python3.10/dist-packages (from huggingface-hub<1.0,>=0.23.2->transformers) (2024.6.1)\n",
            "Requirement already satisfied: typing-extensions>=3.7.4.3 in /usr/local/lib/python3.10/dist-packages (from huggingface-hub<1.0,>=0.23.2->transformers) (4.12.2)\n",
            "Escolha a ação desejada:\n",
            "1. Baixar vídeo do YouTube\n",
            "2. Obter resumo do vídeo do YouTube\n",
            "3. Obter transcrição completa do vídeo do YouTube\n",
            "4. Baixar vídeo do Instagram\n",
            "5. Baixar vídeo de uma URL genérica\n",
            "Escolha uma opção (1, 2, 3, 4 ou 5): 1\n",
            "Cole a URL do YouTube: https://youtu.be/1QfV8e3IHuY?si=UyVUjMMwTbh0o9rF\n",
            "[youtube] Extracting URL: https://youtu.be/1QfV8e3IHuY?si=UyVUjMMwTbh0o9rF\n",
            "[youtube] 1QfV8e3IHuY: Downloading webpage\n"
          ]
        },
        {
          "output_type": "stream",
          "name": "stderr",
          "text": [
            "WARNING: [youtube] unable to extract initial player response; please report this issue on  https://github.com/yt-dlp/yt-dlp/issues?q= , filling out the appropriate issue template. Confirm you are on the latest version using  yt-dlp -U\n"
          ]
        },
        {
          "output_type": "stream",
          "name": "stdout",
          "text": [
            "[youtube] 1QfV8e3IHuY: Downloading ios player API JSON\n"
          ]
        },
        {
          "output_type": "stream",
          "name": "stderr",
          "text": [
            "WARNING: [youtube] 1QfV8e3IHuY: Failed to parse JSON (caused by JSONDecodeError(\"Expecting value in '': line 1 column 1 (char 0)\")); please report this issue on  https://github.com/yt-dlp/yt-dlp/issues?q= , filling out the appropriate issue template. Confirm you are on the latest version using  yt-dlp -U\n"
          ]
        },
        {
          "output_type": "stream",
          "name": "stdout",
          "text": [
            "[youtube] 1QfV8e3IHuY: Downloading iframe API JS\n"
          ]
        },
        {
          "output_type": "stream",
          "name": "stderr",
          "text": [
            "WARNING: [youtube] unable to extract player version; please report this issue on  https://github.com/yt-dlp/yt-dlp/issues?q= , filling out the appropriate issue template. Confirm you are on the latest version using  yt-dlp -U\n"
          ]
        },
        {
          "output_type": "stream",
          "name": "stdout",
          "text": [
            "[youtube] 1QfV8e3IHuY: Downloading mweb player API JSON\n"
          ]
        },
        {
          "output_type": "stream",
          "name": "stderr",
          "text": [
            "WARNING: [youtube] 1QfV8e3IHuY: Failed to parse JSON (caused by JSONDecodeError(\"Expecting value in '': line 1 column 1 (char 0)\")); please report this issue on  https://github.com/yt-dlp/yt-dlp/issues?q= , filling out the appropriate issue template. Confirm you are on the latest version using  yt-dlp -U\n",
            "ERROR: [youtube] 1QfV8e3IHuY: Failed to extract any player response; please report this issue on  https://github.com/yt-dlp/yt-dlp/issues?q= , filling out the appropriate issue template. Confirm you are on the latest version using  yt-dlp -U\n"
          ]
        },
        {
          "output_type": "stream",
          "name": "stdout",
          "text": [
            "Erro ao baixar o vídeo: ERROR: [youtube] 1QfV8e3IHuY: Failed to extract any player response; please report this issue on  https://github.com/yt-dlp/yt-dlp/issues?q= , filling out the appropriate issue template. Confirm you are on the latest version using  yt-dlp -U\n"
          ]
        }
      ],
      "source": [
        "# Instalar as bibliotecas necessárias\n",
        "!pip install --upgrade yt-dlp youtube-transcript-api instaloader requests transformers\n",
        "\n",
        "from youtube_transcript_api import YouTubeTranscriptApi\n",
        "from instaloader import Instaloader, Post\n",
        "import yt_dlp\n",
        "import requests\n",
        "from transformers import pipeline\n",
        "\n",
        "# Função para baixar vídeos do YouTube usando yt-dlp com Invidious\n",
        "def baixar_video_youtube():\n",
        "    try:\n",
        "        video_url = input(\"Cole a URL do YouTube: \")\n",
        "\n",
        "        # Configurações do yt-dlp para usar uma instância Invidious pública\n",
        "        ydl_opts = {\n",
        "            'format': 'best',  # Baixa a melhor qualidade de vídeo disponível\n",
        "            'outtmpl': '%(title)s.%(ext)s',  # Nome do arquivo de saída\n",
        "            'geo_bypass': True,              # Ignora restrições geográficas\n",
        "            'force_generic_extractor': True  # Força o uso de um extrator genérico, como o Invidious\n",
        "        }\n",
        "\n",
        "        with yt_dlp.YoutubeDL(ydl_opts) as ydl:\n",
        "            info_dict = ydl.extract_info(video_url, download=True)\n",
        "            video_title = info_dict.get('title', None)\n",
        "            print(f\"\\nVídeo '{video_title}' baixado com sucesso!\")\n",
        "\n",
        "    except Exception as e:\n",
        "        print(f\"Erro ao baixar o vídeo: {e}\")\n",
        "\n",
        "# Função para obter resumo do vídeo do YouTube\n",
        "def resumo_video_youtube():\n",
        "    try:\n",
        "        video_url = input(\"Cole a URL do YouTube: \")\n",
        "        video_id = video_url.split(\"v=\")[1] if \"v=\" in video_url else video_url.split(\"/\")[-1]\n",
        "\n",
        "        transcript = YouTubeTranscriptApi.get_transcript(video_id, languages=['pt'])\n",
        "        transcricao_completa = \" \".join([entry['text'] for entry in transcript])\n",
        "\n",
        "        tamanho_maximo = 1000\n",
        "        partes_transcricao = [transcricao_completa[i:i + tamanho_maximo] for i in range(0, len(transcricao_completa), tamanho_maximo)]\n",
        "\n",
        "        resumo_pipeline = pipeline(\"summarization\", model=\"sshleifer/distilbart-cnn-12-6\")\n",
        "        resumos = [resumo_pipeline(parte, max_length=150, min_length=50, do_sample=False)[0]['summary_text'] for parte in partes_transcricao]\n",
        "        resumo_completo = \" \".join(resumos)\n",
        "\n",
        "        print(\"\\nResumo do vídeo:\")\n",
        "        print(resumo_completo)\n",
        "\n",
        "    except Exception as e:\n",
        "        print(f\"Erro ao obter resumo: {e}\")\n",
        "\n",
        "# Função para exibir a transcrição completa do vídeo do YouTube\n",
        "def transcricao_completa_video_youtube():\n",
        "    try:\n",
        "        video_url = input(\"Cole a URL do YouTube: \")\n",
        "        video_id = video_url.split(\"v=\")[1] if \"v=\" in video_url else video_url.split(\"/\")[-1]\n",
        "\n",
        "        transcript = YouTubeTranscriptApi.get_transcript(video_id, languages=['pt'])\n",
        "        print(\"\\nTranscrição completa do vídeo:\")\n",
        "        for entry in transcript:\n",
        "            minutos = int(entry['start'] // 60)\n",
        "            segundos = int(entry['start'] % 60)\n",
        "            print(f\"{minutos:02}:{segundos:02} - {entry['text']}\")\n",
        "\n",
        "    except Exception as e:\n",
        "        print(f\"Erro ao obter transcrição completa: {e}\")\n",
        "\n",
        "# Função para listar e baixar vídeos do Instagram\n",
        "def baixar_video_instagram():\n",
        "    try:\n",
        "        insta_url = input(\"Cole a URL do post do Instagram: \")\n",
        "        loader = Instaloader()\n",
        "\n",
        "        post_shortcode = insta_url.split(\"/\")[-2]\n",
        "        post = Post.from_shortcode(loader.context, post_shortcode)\n",
        "\n",
        "        if post.is_video:\n",
        "            print(f\"\\nBaixando vídeo do Instagram.\")\n",
        "            loader.download_post(post, target=\"video_instagram\")\n",
        "            print(\"Vídeo baixado com sucesso!\")\n",
        "        else:\n",
        "            print(\"O link não contém um vídeo.\")\n",
        "    except Exception as e:\n",
        "        print(f\"Erro ao acessar o Instagram. Verifique a URL ou tente novamente. Erro: {e}\")\n",
        "\n",
        "# Função para baixar vídeo de uma URL genérica\n",
        "def baixar_video_url():\n",
        "    try:\n",
        "        video_url = input(\"Cole a URL do vídeo: \")\n",
        "        response = requests.get(video_url, stream=True)\n",
        "\n",
        "        if response.status_code == 200:\n",
        "            extensao = video_url.split('.')[-1] if '.' in video_url else 'mp4'\n",
        "            print(f\"\\nBaixando vídeo da URL fornecida ({extensao.upper()}).\")\n",
        "            with open(f\"video_generico.{extensao}\", \"wb\") as f:\n",
        "                for chunk in response.iter_content(chunk_size=8192):\n",
        "                    f.write(chunk)\n",
        "            print(\"Vídeo baixado com sucesso!\")\n",
        "        else:\n",
        "            print(\"Erro ao acessar a URL fornecida. Código de status HTTP:\", response.status_code)\n",
        "    except Exception as e:\n",
        "        print(f\"Erro ao acessar a URL genérica. Verifique a URL ou tente novamente. Erro: {e}\")\n",
        "\n",
        "# Menu de opções para o usuário\n",
        "print(\"Escolha a ação desejada:\")\n",
        "print(\"1. Baixar vídeo do YouTube\")\n",
        "print(\"2. Obter resumo do vídeo do YouTube\")\n",
        "print(\"3. Obter transcrição completa do vídeo do YouTube\")\n",
        "print(\"4. Baixar vídeo do Instagram\")\n",
        "print(\"5. Baixar vídeo de uma URL genérica\")\n",
        "\n",
        "opcao = int(input(\"Escolha uma opção (1, 2, 3, 4 ou 5): \"))\n",
        "\n",
        "if opcao == 1:\n",
        "    baixar_video_youtube()\n",
        "elif opcao == 2:\n",
        "    resumo_video_youtube()\n",
        "elif opcao == 3:\n",
        "    transcricao_completa_video_youtube()\n",
        "elif opcao == 4:\n",
        "    baixar_video_instagram()\n",
        "elif opcao == 5:\n",
        "    baixar_video_url()\n",
        "else:\n",
        "    print(\"Opção inválida.\")"
      ]
    }
  ]
}